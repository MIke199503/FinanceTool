{
 "cells": [
  {
   "cell_type": "code",
   "execution_count": 15,
   "metadata": {},
   "outputs": [],
   "source": [
    "from DataModule.ReadExcel import FirstDeal\n",
    "a = FirstDeal(\"/Users/MikeImac/Desktop/FinanceTool/经营检测表（费用明细表）数据底稿.xlsx\")"
   ]
  },
  {
   "cell_type": "code",
   "execution_count": 16,
   "metadata": {},
   "outputs": [],
   "source": [
    "# from DataModule.GetDynamicData import Dynamic_Data\n",
    "\n",
    "# x = Dynamic_Data(data_resource=a)\n"
   ]
  },
  {
   "cell_type": "code",
   "execution_count": 27,
   "metadata": {},
   "outputs": [],
   "source": [
    "from DataModule.BasicMessage import company_abbreviation\n",
    "\n",
    "def get_depart_category(date_choose_list, company_choose_list, project_choose_list, cost_choose_list,data):\n",
    "    resource = data\n",
    "    date_choose_list = date_choose_list\n",
    "    company_choose_list = company_choose_list\n",
    "    project_choose_list = project_choose_list\n",
    "    cost_choose_list = cost_choose_list\n",
    "    cost_choose_list.reverse()\n",
    "    level_list = [\"Level1\", \"Level2\", \"Level3\", \"Level4\", \"Level5\"]\n",
    "\n",
    "    depart = set()\n",
    "\n",
    "    # 有效的日期\n",
    "    useful_company = []\n",
    "    for date in date_choose_list:\n",
    "        for company in company_choose_list:\n",
    "            com_abb = company_abbreviation[company]\n",
    "            com_date = com_abb+date\n",
    "            if com_date in resource.company_sheet_detail[com_abb]:\n",
    "                useful_company.append(com_date)\n",
    "    # 判断筛选逻辑\n",
    "    mode = 0\n",
    "    if cost_choose_list[0] == [] and cost_choose_list[1] == [] and cost_choose_list[2] == [] and cost_choose_list[3] == []:\n",
    "        mode = 0\n",
    "    elif cost_choose_list[0] == [] and cost_choose_list[1] == [] and cost_choose_list[2] == [] and cost_choose_list[3] != []:\n",
    "        mode = 0\n",
    "    else:\n",
    "        mode = 1\n",
    "\n",
    "    for use_item in useful_company:\n",
    "        company_data = resource.company_sheet_detail[use_item[:-4]][use_item]\n",
    "        if mode == 0:\n",
    "            for level in level_list:\n",
    "                for tem in company_data[level][\"data\"]:\n",
    "                    if tem[2] in project_choose_list:\n",
    "                        depart.add(tem[1])\n",
    "        elif mode == 1:\n",
    "            for index, item in enumerate(cost_choose_list):\n",
    "                item_data = []\n",
    "                if item :\n",
    "                    for x in item :\n",
    "                        item_data.append(x.split('-')[0])\n",
    "                    level_message = \"Level\" + str(4-index)\n",
    "                    for tem_data in company_data[level_message][\"data\"]:\n",
    "                        if tem_data[2] in project_choose_list and tem_data[0] in item_data:\n",
    "                            depart.add(tem_data[1])\n",
    "                    break\n",
    "                else:\n",
    "                    continue\n",
    "    return depart"
   ]
  },
  {
   "cell_type": "code",
   "execution_count": 28,
   "outputs": [
    {
     "data": {
      "text/plain": "{'之了会计研究院_Python项目组'}"
     },
     "execution_count": 28,
     "metadata": {},
     "output_type": "execute_result"
    }
   ],
   "source": [
    "get_depart_category(date_choose_list=['2104', '2105', '2106', '2204', '2205', '2206'], company_choose_list=['之了（成都）教育科技有限公司'], project_choose_list=['查重', '编程', '综合', '排版'], cost_choose_list=[['6602-管理费用'], ['6602.26-宣传费'], ['6602.26.02-推广费'], ['6602.26.02.02-其它']],data = a)"
   ],
   "metadata": {
    "collapsed": false
   }
  },
  {
   "cell_type": "code",
   "execution_count": 14,
   "metadata": {},
   "outputs": [
    {
     "data": {
      "text/plain": "[['6602-管理费用'], ['6602.26-宣传费'], ['6602.26.02-推广费'], ['6602.26.02.02-其它']]"
     },
     "execution_count": 14,
     "metadata": {},
     "output_type": "execute_result"
    }
   ],
   "source": [
    "\n",
    "[['6602-管理费用', '6603-财务费用'], [], [], []]\n",
    "['2205', '2206']\n",
    "['之了（成都）教育科技有限公司', '之了（成都）教育科技有限公司锦江区分公司']\n",
    "['编程']\n",
    "[['6602-管理费用'], ['6602.26-宣传费'], ['6602.26.02-推广费'], ['6602.26.02.02-其它']]\n"
   ]
  },
  {
   "cell_type": "code",
   "execution_count": 24,
   "outputs": [
    {
     "data": {
      "text/plain": "0"
     },
     "execution_count": 24,
     "metadata": {},
     "output_type": "execute_result"
    }
   ],
   "source": [
    "# lista = [['6602-管理费用'], ['6602.26-宣传费'], ['6602.26.02-推广费'], ['6602.26.02.02-其它']]\n",
    "lista = [['6602-管理费用', '6603-财务费用'], [], [], []]\n",
    "lista.reverse()\n",
    "if lista[0] == [] and lista[1] == [] and lista[2] == [] and lista[3] == []:\n",
    "    mode = 0\n",
    "elif lista[0] == [] and lista[1] == [] and lista[2] == [] and lista[3] != []:\n",
    "    mode = 0\n",
    "else:\n",
    "    mode = 1\n",
    "mode"
   ],
   "metadata": {
    "collapsed": false
   }
  },
  {
   "cell_type": "code",
   "execution_count": null,
   "outputs": [],
   "source": [],
   "metadata": {
    "collapsed": false
   }
  }
 ],
 "metadata": {
  "kernelspec": {
   "display_name": "Python 3 (ipykernel)",
   "language": "python",
   "name": "python3"
  },
  "language_info": {
   "codemirror_mode": {
    "name": "ipython",
    "version": 3
   },
   "file_extension": ".py",
   "mimetype": "text/x-python",
   "name": "python",
   "nbconvert_exporter": "python",
   "pygments_lexer": "ipython3",
   "version": "3.9.9"
  },
  "vscode": {
   "interpreter": {
    "hash": "aee8b7b246df8f9039afb4144a1f6fd8d2ca17a180786b69acc140d282b71a49"
   }
  }
 },
 "nbformat": 4,
 "nbformat_minor": 1
}
