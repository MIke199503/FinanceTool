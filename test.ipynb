{
 "cells": [
  {
   "cell_type": "code",
   "execution_count": 15,
   "outputs": [],
   "source": [
    "import pandas as pd\n",
    "a = pd.read_excel(\"/Users/MikeImac/Desktop/FinaceTool/经营检测表（费用明细表）数据底稿.xlsx\",sheet_name=\"之了成都教育2206\")"
   ],
   "metadata": {
    "collapsed": false,
    "pycharm": {
     "name": "#%%\n"
    }
   }
  },
  {
   "cell_type": "code",
   "execution_count": 16,
   "outputs": [
    {
     "data": {
      "text/plain": "        科目代码                       科目名称/部门   项目            店铺/HS编码    HS编码  \\\n0       1002                          银行存款  NaN                NaN     NaN   \n1    1002.02     民生银行（634342543,634770624）  NaN                NaN     NaN   \n2    1002.02             001之了（成都）教育科技有限公司  NaN                NaN     NaN   \n3       1012                        其他货币资金  NaN                NaN     NaN   \n4    1012.03  支付宝-备付金账户（2070664869@qq.com）  NaN                NaN     NaN   \n..       ...                           ...  ...                ...     ...   \n214  6711.05                          论文项目   排版  001之了（成都）教育科技有限公司  000-00   \n215  6711.06                          非常损失  NaN                NaN     NaN   \n216  6711.06                           总裁办   综合  001之了（成都）教育科技有限公司       0   \n217  6711.06                     Python项目组   编程  001之了（成都）教育科技有限公司       0   \n218      NaN                            合计  NaN                NaN     NaN   \n\n     币别   期初借方余额   期初贷方余额  本期借方发生额  本期贷方发生额   本年借方累计   本年贷方累计   期末借方余额  \\\n0   NaN  3030.00     0.00  3030.67  6200.00  3992.67  4197.33  6120.00   \n1   NaN  1248.00     0.00  6193.33  1668.00  2904.00  2466.00  5499.33   \n2   NaN  4888.67     0.00  5367.33  5162.00  4866.00   764.00  4804.67   \n3   NaN  2178.67     0.00  2404.00  5661.33  5959.33  2508.00  3628.00   \n4   NaN     0.00     0.00  1872.00  4136.67  3976.67  2181.33  2772.67   \n..   ..      ...      ...      ...      ...      ...      ...      ...   \n214 NaN     0.00     0.00  3117.33  2324.00  3980.67  6452.67     0.00   \n215 NaN     0.00     0.00     0.00     0.00  3536.67  3998.67     0.00   \n216 NaN     0.00     0.00     0.00     0.00  6532.00  3654.67     0.00   \n217 NaN     0.00     0.00     0.00     0.00  5272.67  6284.00     0.00   \n218 NaN  4143.33  3106.67  1111.33  2582.67  1243.33  6317.33  4214.00   \n\n      期末贷方余额  \n0       0.00  \n1       0.00  \n2       0.00  \n3       0.00  \n4       0.00  \n..       ...  \n214     0.00  \n215     0.00  \n216     0.00  \n217     0.00  \n218  2699.33  \n\n[219 rows x 14 columns]",
      "text/html": "<div>\n<style scoped>\n    .dataframe tbody tr th:only-of-type {\n        vertical-align: middle;\n    }\n\n    .dataframe tbody tr th {\n        vertical-align: top;\n    }\n\n    .dataframe thead th {\n        text-align: right;\n    }\n</style>\n<table border=\"1\" class=\"dataframe\">\n  <thead>\n    <tr style=\"text-align: right;\">\n      <th></th>\n      <th>科目代码</th>\n      <th>科目名称/部门</th>\n      <th>项目</th>\n      <th>店铺/HS编码</th>\n      <th>HS编码</th>\n      <th>币别</th>\n      <th>期初借方余额</th>\n      <th>期初贷方余额</th>\n      <th>本期借方发生额</th>\n      <th>本期贷方发生额</th>\n      <th>本年借方累计</th>\n      <th>本年贷方累计</th>\n      <th>期末借方余额</th>\n      <th>期末贷方余额</th>\n    </tr>\n  </thead>\n  <tbody>\n    <tr>\n      <th>0</th>\n      <td>1002</td>\n      <td>银行存款</td>\n      <td>NaN</td>\n      <td>NaN</td>\n      <td>NaN</td>\n      <td>NaN</td>\n      <td>3030.00</td>\n      <td>0.00</td>\n      <td>3030.67</td>\n      <td>6200.00</td>\n      <td>3992.67</td>\n      <td>4197.33</td>\n      <td>6120.00</td>\n      <td>0.00</td>\n    </tr>\n    <tr>\n      <th>1</th>\n      <td>1002.02</td>\n      <td>民生银行（634342543,634770624）</td>\n      <td>NaN</td>\n      <td>NaN</td>\n      <td>NaN</td>\n      <td>NaN</td>\n      <td>1248.00</td>\n      <td>0.00</td>\n      <td>6193.33</td>\n      <td>1668.00</td>\n      <td>2904.00</td>\n      <td>2466.00</td>\n      <td>5499.33</td>\n      <td>0.00</td>\n    </tr>\n    <tr>\n      <th>2</th>\n      <td>1002.02</td>\n      <td>001之了（成都）教育科技有限公司</td>\n      <td>NaN</td>\n      <td>NaN</td>\n      <td>NaN</td>\n      <td>NaN</td>\n      <td>4888.67</td>\n      <td>0.00</td>\n      <td>5367.33</td>\n      <td>5162.00</td>\n      <td>4866.00</td>\n      <td>764.00</td>\n      <td>4804.67</td>\n      <td>0.00</td>\n    </tr>\n    <tr>\n      <th>3</th>\n      <td>1012</td>\n      <td>其他货币资金</td>\n      <td>NaN</td>\n      <td>NaN</td>\n      <td>NaN</td>\n      <td>NaN</td>\n      <td>2178.67</td>\n      <td>0.00</td>\n      <td>2404.00</td>\n      <td>5661.33</td>\n      <td>5959.33</td>\n      <td>2508.00</td>\n      <td>3628.00</td>\n      <td>0.00</td>\n    </tr>\n    <tr>\n      <th>4</th>\n      <td>1012.03</td>\n      <td>支付宝-备付金账户（2070664869@qq.com）</td>\n      <td>NaN</td>\n      <td>NaN</td>\n      <td>NaN</td>\n      <td>NaN</td>\n      <td>0.00</td>\n      <td>0.00</td>\n      <td>1872.00</td>\n      <td>4136.67</td>\n      <td>3976.67</td>\n      <td>2181.33</td>\n      <td>2772.67</td>\n      <td>0.00</td>\n    </tr>\n    <tr>\n      <th>...</th>\n      <td>...</td>\n      <td>...</td>\n      <td>...</td>\n      <td>...</td>\n      <td>...</td>\n      <td>...</td>\n      <td>...</td>\n      <td>...</td>\n      <td>...</td>\n      <td>...</td>\n      <td>...</td>\n      <td>...</td>\n      <td>...</td>\n      <td>...</td>\n    </tr>\n    <tr>\n      <th>214</th>\n      <td>6711.05</td>\n      <td>论文项目</td>\n      <td>排版</td>\n      <td>001之了（成都）教育科技有限公司</td>\n      <td>000-00</td>\n      <td>NaN</td>\n      <td>0.00</td>\n      <td>0.00</td>\n      <td>3117.33</td>\n      <td>2324.00</td>\n      <td>3980.67</td>\n      <td>6452.67</td>\n      <td>0.00</td>\n      <td>0.00</td>\n    </tr>\n    <tr>\n      <th>215</th>\n      <td>6711.06</td>\n      <td>非常损失</td>\n      <td>NaN</td>\n      <td>NaN</td>\n      <td>NaN</td>\n      <td>NaN</td>\n      <td>0.00</td>\n      <td>0.00</td>\n      <td>0.00</td>\n      <td>0.00</td>\n      <td>3536.67</td>\n      <td>3998.67</td>\n      <td>0.00</td>\n      <td>0.00</td>\n    </tr>\n    <tr>\n      <th>216</th>\n      <td>6711.06</td>\n      <td>总裁办</td>\n      <td>综合</td>\n      <td>001之了（成都）教育科技有限公司</td>\n      <td>0</td>\n      <td>NaN</td>\n      <td>0.00</td>\n      <td>0.00</td>\n      <td>0.00</td>\n      <td>0.00</td>\n      <td>6532.00</td>\n      <td>3654.67</td>\n      <td>0.00</td>\n      <td>0.00</td>\n    </tr>\n    <tr>\n      <th>217</th>\n      <td>6711.06</td>\n      <td>Python项目组</td>\n      <td>编程</td>\n      <td>001之了（成都）教育科技有限公司</td>\n      <td>0</td>\n      <td>NaN</td>\n      <td>0.00</td>\n      <td>0.00</td>\n      <td>0.00</td>\n      <td>0.00</td>\n      <td>5272.67</td>\n      <td>6284.00</td>\n      <td>0.00</td>\n      <td>0.00</td>\n    </tr>\n    <tr>\n      <th>218</th>\n      <td>NaN</td>\n      <td>合计</td>\n      <td>NaN</td>\n      <td>NaN</td>\n      <td>NaN</td>\n      <td>NaN</td>\n      <td>4143.33</td>\n      <td>3106.67</td>\n      <td>1111.33</td>\n      <td>2582.67</td>\n      <td>1243.33</td>\n      <td>6317.33</td>\n      <td>4214.00</td>\n      <td>2699.33</td>\n    </tr>\n  </tbody>\n</table>\n<p>219 rows × 14 columns</p>\n</div>"
     },
     "execution_count": 16,
     "metadata": {},
     "output_type": "execute_result"
    }
   ],
   "source": [
    "a"
   ],
   "metadata": {
    "collapsed": false,
    "pycharm": {
     "name": "#%%\n"
    }
   }
  },
  {
   "cell_type": "code",
   "execution_count": 20,
   "outputs": [
    {
     "data": {
      "text/plain": "RangeIndex(start=0, stop=219, step=1)"
     },
     "execution_count": 20,
     "metadata": {},
     "output_type": "execute_result"
    }
   ],
   "source": [
    "a.index"
   ],
   "metadata": {
    "collapsed": false,
    "pycharm": {
     "name": "#%%\n"
    }
   }
  },
  {
   "cell_type": "code",
   "execution_count": null,
   "outputs": [],
   "source": [],
   "metadata": {
    "collapsed": false,
    "pycharm": {
     "name": "#%%\n"
    }
   }
  }
 ],
 "metadata": {
  "kernelspec": {
   "display_name": "Python 3",
   "language": "python",
   "name": "python3"
  },
  "language_info": {
   "codemirror_mode": {
    "name": "ipython",
    "version": 2
   },
   "file_extension": ".py",
   "mimetype": "text/x-python",
   "name": "python",
   "nbconvert_exporter": "python",
   "pygments_lexer": "ipython2",
   "version": "2.7.6"
  }
 },
 "nbformat": 4,
 "nbformat_minor": 0
}