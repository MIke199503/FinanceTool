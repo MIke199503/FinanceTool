{
 "cells": [
  {
   "cell_type": "code",
   "execution_count": 1,
   "metadata": {},
   "outputs": [],
   "source": [
    "from DataModule.ReadExcel import FirstDeal\n",
    "a = FirstDeal(\"/Users/MikeImac/Desktop/FinanceTool/经营检测表（费用明细表）数据底稿.xlsx\")"
   ]
  },
  {
   "cell_type": "code",
   "execution_count": 2,
   "metadata": {},
   "outputs": [],
   "source": [
    "from DataModule.GetDynamicData import Dynamic_Data\n",
    "\n",
    "x = Dynamic_Data(data_resource=a)\n"
   ]
  },
  {
   "cell_type": "code",
   "execution_count": 3,
   "metadata": {},
   "outputs": [
    {
     "name": "stdout",
     "output_type": "stream",
     "text": [
      "['之了成教2104', '之了成教2105', '之了成教2204', '之了成教2205', '之了成教2206']\n",
      "\n",
      "[]\n",
      "[]\n",
      "[]\n",
      "\n",
      "[]\n",
      "[]\n",
      "[]\n",
      "\n",
      "[]\n",
      "[]\n",
      "[]\n",
      "\n",
      "[]\n",
      "[]\n",
      "[]\n",
      "\n",
      "[]\n",
      "[]\n",
      "[]\n"
     ]
    },
    {
     "data": {
      "text/plain": [
       "set()"
      ]
     },
     "execution_count": 3,
     "metadata": {},
     "output_type": "execute_result"
    }
   ],
   "source": [
    "x.get_depart_category(date_choose_list=['2104', '2105', '2106', '2204', '2205', '2206'], company_choose_list=['之了（成都）教育科技有限公司'], project_choose_list=['查重', '编程', '综合', '排版'], cost_choose_list=[['6602-管理费用', '6603-财务费用'], [], [], []])\n"
   ]
  },
  {
   "cell_type": "code",
   "execution_count": null,
   "metadata": {},
   "outputs": [],
   "source": []
  },
  {
   "cell_type": "code",
   "execution_count": 4,
   "metadata": {},
   "outputs": [
    {
     "data": {
      "text/plain": [
       "{'Level1': {'6602-管理费用', '6603-财务费用'},\n",
       " 'Level2': {'6602.02-社会保险费',\n",
       "  '6602.03-住房公积金',\n",
       "  '6602.06-职工福利费',\n",
       "  '6602.08-职场费用',\n",
       "  '6602.09-办公费',\n",
       "  '6602.12-加班费',\n",
       "  '6602.14-清洁费',\n",
       "  '6602.16-邮电通讯费',\n",
       "  '6602.17-交通费',\n",
       "  '6602.23-咨询及服务费',\n",
       "  '6602.24-维修费',\n",
       "  '6602.26-宣传费',\n",
       "  '6602.30-长期待摊费用摊销',\n",
       "  '6602.35-研发支出',\n",
       "  '6602.97-平台费',\n",
       "  '6603.01-银行手续费',\n",
       "  '6603.03-利息收入'},\n",
       " 'Level3': {'6602.06.02-公司、部门聚餐费',\n",
       "  '6602.06.06-福利用品费',\n",
       "  '6602.08.01-房租',\n",
       "  '6602.08.02-物业管理费',\n",
       "  '6602.08.03-水电气费',\n",
       "  '6602.09.01-办公用品费',\n",
       "  '6602.12.01-加班交通费',\n",
       "  '6602.12.02-加班餐费及食品费',\n",
       "  '6602.16.04-邮递费',\n",
       "  '6602.17.06-公共交通费',\n",
       "  '6602.23.05-代理服务费',\n",
       "  '6602.23.07-软件技术服务费',\n",
       "  '6602.26.02-推广费',\n",
       "  '6602.30.01-装修摊销费',\n",
       "  '6602.35.05-其他相关费',\n",
       "  '6602.97.05-平台服务费'},\n",
       " 'Level4': {'6602.26.02.02-其它', '6602.35.05.03-知识产权代理费'},\n",
       " 'Level5': set()}"
      ]
     },
     "execution_count": 4,
     "metadata": {},
     "output_type": "execute_result"
    }
   ],
   "source": [
    "\n",
    "\n",
    "['2205', '2206']\n",
    "['之了（成都）教育科技有限公司', '之了（成都）教育科技有限公司锦江区分公司']\n",
    "['编程']\n",
    "[['6602-管理费用'], ['6602.26-宣传费'], ['6602.26.02-推广费'], ['6602.26.02.02-其它']]\n"
   ]
  },
  {
   "cell_type": "code",
   "execution_count": null,
   "metadata": {},
   "outputs": [],
   "source": []
  }
 ],
 "metadata": {
  "kernelspec": {
   "display_name": "Python 3 (ipykernel)",
   "language": "python",
   "name": "python3"
  },
  "language_info": {
   "codemirror_mode": {
    "name": "ipython",
    "version": 3
   },
   "file_extension": ".py",
   "mimetype": "text/x-python",
   "name": "python",
   "nbconvert_exporter": "python",
   "pygments_lexer": "ipython3",
   "version": "3.9.9"
  },
  "vscode": {
   "interpreter": {
    "hash": "aee8b7b246df8f9039afb4144a1f6fd8d2ca17a180786b69acc140d282b71a49"
   }
  }
 },
 "nbformat": 4,
 "nbformat_minor": 1
}
